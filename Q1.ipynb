{
 "cells": [
  {
   "cell_type": "code",
   "execution_count": 5,
   "metadata": {
    "colab": {
     "base_uri": "https://localhost:8080/"
    },
    "executionInfo": {
     "elapsed": 5,
     "status": "ok",
     "timestamp": 1740089560268,
     "user": {
      "displayName": "Yu Liu",
      "userId": "04303269385052062199"
     },
     "user_tz": 0
    },
    "id": "QBP1tYiwQIsm",
    "outputId": "8c5b600a-b247-4d48-f477-ccf03db89527"
   },
   "outputs": [
    {
     "name": "stdout",
     "output_type": "stream",
     "text": [
      "Orthogonality error: 1.5992456716012994e-15\n",
      "QR correctness error: 6.6135100856479100e-15\n"
     ]
    }
   ],
   "source": [
    "import numpy as np\n",
    "\n",
    "def tsqr(A):\n",
    "    num_blocks = 4  # Number of row-wise blocks\n",
    "    A_blocks = np.array_split(A, num_blocks, axis=0)  # Split matrix into blocks\n",
    "\n",
    "    R_list = []  # List to store R matrices\n",
    "    Q_list = []  # List to store Q matrices\n",
    "\n",
    "    # Perform QR decomposition on each block\n",
    "    for A_block in A_blocks:\n",
    "        Q, R = np.linalg.qr(A_block)\n",
    "        Q_list.append(Q)\n",
    "        R_list.append(R)\n",
    "\n",
    "    # Stack R matrices to form an upper triangular matrix\n",
    "    R_stack = np.vstack(R_list).astype(np.float64)\n",
    "    # Perform QR decomposition on the stacked R matrix\n",
    "    Q2, R_final = np.linalg.qr(R_stack)\n",
    "\n",
    "    # Compute final Q matrix by applying Q2 to the original Q blocks\n",
    "    Q_full = np.vstack([Q_list[i] @ Q2[i*Q_list[i].shape[1]:(i+1)*Q_list[i].shape[1], :]\n",
    "                        for i in range(len(Q_list))])\n",
    "\n",
    "    return Q_full, R_final\n",
    "\n",
    "# Generate a random test matrix\n",
    "A = np.random.randn(100, 5)\n",
    "Q, R = tsqr(A)\n",
    "\n",
    "# Compute numerical errors\n",
    "orthogonality_error = np.linalg.norm(Q.T @ Q - np.eye(Q.shape[1]))  # ||QᵀQ - I||\n",
    "qr_error = np.linalg.norm(Q @ R - A)  # ||QR - A||\n",
    "\n",
    "# Print errors in a format matching the C version\n",
    "print(\"Orthogonality error:\", f\"{orthogonality_error:.16e}\")\n",
    "print(\"QR correctness error:\", f\"{qr_error:.16e}\")\n"
   ]
  }
 ],
 "metadata": {
  "colab": {
   "authorship_tag": "ABX9TyMyimcehQ6QYx92MGR/iPBF",
   "provenance": []
  },
  "kernelspec": {
   "display_name": "Python 3",
   "name": "python3"
  },
  "language_info": {
   "codemirror_mode": {
    "name": "ipython",
    "version": 3
   },
   "file_extension": ".py",
   "mimetype": "text/x-python",
   "name": "python",
   "nbconvert_exporter": "python",
   "pygments_lexer": "ipython3",
   "version": "3.9.6"
  }
 },
 "nbformat": 4,
 "nbformat_minor": 0
}
